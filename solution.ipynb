{
  "cells": [
    {
      "cell_type": "code",
      "execution_count": 46,
      "metadata": {
        "colab": {
          "base_uri": "https://localhost:8080/",
          "height": 35
        },
        "id": "zFTPButcZS45",
        "outputId": "6bb330e3-0543-486f-abf3-34084ce60577"
      },
      "outputs": [
        {
          "output_type": "execute_result",
          "data": {
            "text/plain": [
              "'cuda'"
            ],
            "application/vnd.google.colaboratory.intrinsic+json": {
              "type": "string"
            }
          },
          "metadata": {},
          "execution_count": 46
        }
      ],
      "source": [
        "import string\n",
        "\n",
        "from transformers import BertTokenizer, BertModel\n",
        "import torch\n",
        "from torch.utils.data import DataLoader, Dataset\n",
        "from torch import nn\n",
        "from torch.nn.functional import pad\n",
        "\n",
        "import pandas as pd\n",
        "from tqdm import tqdm\n",
        "\n",
        "from sklearn.model_selection import train_test_split\n",
        "from sklearn.feature_extraction.text import CountVectorizer\n",
        "from sklearn.naive_bayes import MultinomialNB\n",
        "from sklearn.metrics import roc_auc_score\n",
        "\n",
        "device = 'cuda' if torch.cuda.is_available() else 'cpu'\n",
        "device"
      ]
    },
    {
      "cell_type": "code",
      "execution_count": 61,
      "metadata": {
        "id": "X1rgJNuGu71s"
      },
      "outputs": [],
      "source": [
        "Train = pd.read_csv('train_spam.csv', names=['labels', 'text'], header=0)"
      ]
    },
    {
      "cell_type": "code",
      "execution_count": 48,
      "metadata": {
        "colab": {
          "base_uri": "https://localhost:8080/",
          "height": 206
        },
        "id": "VWAO9ZPIawYj",
        "outputId": "be9e1453-eef5-4fb6-8c31-72db079ed571"
      },
      "outputs": [
        {
          "output_type": "execute_result",
          "data": {
            "text/plain": [
              "  labels                                               text\n",
              "0    ham  make sure alex knows his birthday is over in f...\n",
              "1    ham  a resume for john lavorato thanks vince i will...\n",
              "2   spam  plzz visit my website moviesgodml to get all m...\n",
              "3   spam  urgent your mobile number has been awarded wit...\n",
              "4    ham  overview of hr associates analyst project per ..."
            ],
            "text/html": [
              "\n",
              "  <div id=\"df-e7dd301a-c3f3-41b9-a45f-397739a550d1\" class=\"colab-df-container\">\n",
              "    <div>\n",
              "<style scoped>\n",
              "    .dataframe tbody tr th:only-of-type {\n",
              "        vertical-align: middle;\n",
              "    }\n",
              "\n",
              "    .dataframe tbody tr th {\n",
              "        vertical-align: top;\n",
              "    }\n",
              "\n",
              "    .dataframe thead th {\n",
              "        text-align: right;\n",
              "    }\n",
              "</style>\n",
              "<table border=\"1\" class=\"dataframe\">\n",
              "  <thead>\n",
              "    <tr style=\"text-align: right;\">\n",
              "      <th></th>\n",
              "      <th>labels</th>\n",
              "      <th>text</th>\n",
              "    </tr>\n",
              "  </thead>\n",
              "  <tbody>\n",
              "    <tr>\n",
              "      <th>0</th>\n",
              "      <td>ham</td>\n",
              "      <td>make sure alex knows his birthday is over in f...</td>\n",
              "    </tr>\n",
              "    <tr>\n",
              "      <th>1</th>\n",
              "      <td>ham</td>\n",
              "      <td>a resume for john lavorato thanks vince i will...</td>\n",
              "    </tr>\n",
              "    <tr>\n",
              "      <th>2</th>\n",
              "      <td>spam</td>\n",
              "      <td>plzz visit my website moviesgodml to get all m...</td>\n",
              "    </tr>\n",
              "    <tr>\n",
              "      <th>3</th>\n",
              "      <td>spam</td>\n",
              "      <td>urgent your mobile number has been awarded wit...</td>\n",
              "    </tr>\n",
              "    <tr>\n",
              "      <th>4</th>\n",
              "      <td>ham</td>\n",
              "      <td>overview of hr associates analyst project per ...</td>\n",
              "    </tr>\n",
              "  </tbody>\n",
              "</table>\n",
              "</div>\n",
              "    <div class=\"colab-df-buttons\">\n",
              "\n",
              "  <div class=\"colab-df-container\">\n",
              "    <button class=\"colab-df-convert\" onclick=\"convertToInteractive('df-e7dd301a-c3f3-41b9-a45f-397739a550d1')\"\n",
              "            title=\"Convert this dataframe to an interactive table.\"\n",
              "            style=\"display:none;\">\n",
              "\n",
              "  <svg xmlns=\"http://www.w3.org/2000/svg\" height=\"24px\" viewBox=\"0 -960 960 960\">\n",
              "    <path d=\"M120-120v-720h720v720H120Zm60-500h600v-160H180v160Zm220 220h160v-160H400v160Zm0 220h160v-160H400v160ZM180-400h160v-160H180v160Zm440 0h160v-160H620v160ZM180-180h160v-160H180v160Zm440 0h160v-160H620v160Z\"/>\n",
              "  </svg>\n",
              "    </button>\n",
              "\n",
              "  <style>\n",
              "    .colab-df-container {\n",
              "      display:flex;\n",
              "      gap: 12px;\n",
              "    }\n",
              "\n",
              "    .colab-df-convert {\n",
              "      background-color: #E8F0FE;\n",
              "      border: none;\n",
              "      border-radius: 50%;\n",
              "      cursor: pointer;\n",
              "      display: none;\n",
              "      fill: #1967D2;\n",
              "      height: 32px;\n",
              "      padding: 0 0 0 0;\n",
              "      width: 32px;\n",
              "    }\n",
              "\n",
              "    .colab-df-convert:hover {\n",
              "      background-color: #E2EBFA;\n",
              "      box-shadow: 0px 1px 2px rgba(60, 64, 67, 0.3), 0px 1px 3px 1px rgba(60, 64, 67, 0.15);\n",
              "      fill: #174EA6;\n",
              "    }\n",
              "\n",
              "    .colab-df-buttons div {\n",
              "      margin-bottom: 4px;\n",
              "    }\n",
              "\n",
              "    [theme=dark] .colab-df-convert {\n",
              "      background-color: #3B4455;\n",
              "      fill: #D2E3FC;\n",
              "    }\n",
              "\n",
              "    [theme=dark] .colab-df-convert:hover {\n",
              "      background-color: #434B5C;\n",
              "      box-shadow: 0px 1px 3px 1px rgba(0, 0, 0, 0.15);\n",
              "      filter: drop-shadow(0px 1px 2px rgba(0, 0, 0, 0.3));\n",
              "      fill: #FFFFFF;\n",
              "    }\n",
              "  </style>\n",
              "\n",
              "    <script>\n",
              "      const buttonEl =\n",
              "        document.querySelector('#df-e7dd301a-c3f3-41b9-a45f-397739a550d1 button.colab-df-convert');\n",
              "      buttonEl.style.display =\n",
              "        google.colab.kernel.accessAllowed ? 'block' : 'none';\n",
              "\n",
              "      async function convertToInteractive(key) {\n",
              "        const element = document.querySelector('#df-e7dd301a-c3f3-41b9-a45f-397739a550d1');\n",
              "        const dataTable =\n",
              "          await google.colab.kernel.invokeFunction('convertToInteractive',\n",
              "                                                    [key], {});\n",
              "        if (!dataTable) return;\n",
              "\n",
              "        const docLinkHtml = 'Like what you see? Visit the ' +\n",
              "          '<a target=\"_blank\" href=https://colab.research.google.com/notebooks/data_table.ipynb>data table notebook</a>'\n",
              "          + ' to learn more about interactive tables.';\n",
              "        element.innerHTML = '';\n",
              "        dataTable['output_type'] = 'display_data';\n",
              "        await google.colab.output.renderOutput(dataTable, element);\n",
              "        const docLink = document.createElement('div');\n",
              "        docLink.innerHTML = docLinkHtml;\n",
              "        element.appendChild(docLink);\n",
              "      }\n",
              "    </script>\n",
              "  </div>\n",
              "\n",
              "\n",
              "<div id=\"df-722a9d4d-dced-4913-8397-263e55131c43\">\n",
              "  <button class=\"colab-df-quickchart\" onclick=\"quickchart('df-722a9d4d-dced-4913-8397-263e55131c43')\"\n",
              "            title=\"Suggest charts\"\n",
              "            style=\"display:none;\">\n",
              "\n",
              "<svg xmlns=\"http://www.w3.org/2000/svg\" height=\"24px\"viewBox=\"0 0 24 24\"\n",
              "     width=\"24px\">\n",
              "    <g>\n",
              "        <path d=\"M19 3H5c-1.1 0-2 .9-2 2v14c0 1.1.9 2 2 2h14c1.1 0 2-.9 2-2V5c0-1.1-.9-2-2-2zM9 17H7v-7h2v7zm4 0h-2V7h2v10zm4 0h-2v-4h2v4z\"/>\n",
              "    </g>\n",
              "</svg>\n",
              "  </button>\n",
              "\n",
              "<style>\n",
              "  .colab-df-quickchart {\n",
              "      --bg-color: #E8F0FE;\n",
              "      --fill-color: #1967D2;\n",
              "      --hover-bg-color: #E2EBFA;\n",
              "      --hover-fill-color: #174EA6;\n",
              "      --disabled-fill-color: #AAA;\n",
              "      --disabled-bg-color: #DDD;\n",
              "  }\n",
              "\n",
              "  [theme=dark] .colab-df-quickchart {\n",
              "      --bg-color: #3B4455;\n",
              "      --fill-color: #D2E3FC;\n",
              "      --hover-bg-color: #434B5C;\n",
              "      --hover-fill-color: #FFFFFF;\n",
              "      --disabled-bg-color: #3B4455;\n",
              "      --disabled-fill-color: #666;\n",
              "  }\n",
              "\n",
              "  .colab-df-quickchart {\n",
              "    background-color: var(--bg-color);\n",
              "    border: none;\n",
              "    border-radius: 50%;\n",
              "    cursor: pointer;\n",
              "    display: none;\n",
              "    fill: var(--fill-color);\n",
              "    height: 32px;\n",
              "    padding: 0;\n",
              "    width: 32px;\n",
              "  }\n",
              "\n",
              "  .colab-df-quickchart:hover {\n",
              "    background-color: var(--hover-bg-color);\n",
              "    box-shadow: 0 1px 2px rgba(60, 64, 67, 0.3), 0 1px 3px 1px rgba(60, 64, 67, 0.15);\n",
              "    fill: var(--button-hover-fill-color);\n",
              "  }\n",
              "\n",
              "  .colab-df-quickchart-complete:disabled,\n",
              "  .colab-df-quickchart-complete:disabled:hover {\n",
              "    background-color: var(--disabled-bg-color);\n",
              "    fill: var(--disabled-fill-color);\n",
              "    box-shadow: none;\n",
              "  }\n",
              "\n",
              "  .colab-df-spinner {\n",
              "    border: 2px solid var(--fill-color);\n",
              "    border-color: transparent;\n",
              "    border-bottom-color: var(--fill-color);\n",
              "    animation:\n",
              "      spin 1s steps(1) infinite;\n",
              "  }\n",
              "\n",
              "  @keyframes spin {\n",
              "    0% {\n",
              "      border-color: transparent;\n",
              "      border-bottom-color: var(--fill-color);\n",
              "      border-left-color: var(--fill-color);\n",
              "    }\n",
              "    20% {\n",
              "      border-color: transparent;\n",
              "      border-left-color: var(--fill-color);\n",
              "      border-top-color: var(--fill-color);\n",
              "    }\n",
              "    30% {\n",
              "      border-color: transparent;\n",
              "      border-left-color: var(--fill-color);\n",
              "      border-top-color: var(--fill-color);\n",
              "      border-right-color: var(--fill-color);\n",
              "    }\n",
              "    40% {\n",
              "      border-color: transparent;\n",
              "      border-right-color: var(--fill-color);\n",
              "      border-top-color: var(--fill-color);\n",
              "    }\n",
              "    60% {\n",
              "      border-color: transparent;\n",
              "      border-right-color: var(--fill-color);\n",
              "    }\n",
              "    80% {\n",
              "      border-color: transparent;\n",
              "      border-right-color: var(--fill-color);\n",
              "      border-bottom-color: var(--fill-color);\n",
              "    }\n",
              "    90% {\n",
              "      border-color: transparent;\n",
              "      border-bottom-color: var(--fill-color);\n",
              "    }\n",
              "  }\n",
              "</style>\n",
              "\n",
              "  <script>\n",
              "    async function quickchart(key) {\n",
              "      const quickchartButtonEl =\n",
              "        document.querySelector('#' + key + ' button');\n",
              "      quickchartButtonEl.disabled = true;  // To prevent multiple clicks.\n",
              "      quickchartButtonEl.classList.add('colab-df-spinner');\n",
              "      try {\n",
              "        const charts = await google.colab.kernel.invokeFunction(\n",
              "            'suggestCharts', [key], {});\n",
              "      } catch (error) {\n",
              "        console.error('Error during call to suggestCharts:', error);\n",
              "      }\n",
              "      quickchartButtonEl.classList.remove('colab-df-spinner');\n",
              "      quickchartButtonEl.classList.add('colab-df-quickchart-complete');\n",
              "    }\n",
              "    (() => {\n",
              "      let quickchartButtonEl =\n",
              "        document.querySelector('#df-722a9d4d-dced-4913-8397-263e55131c43 button');\n",
              "      quickchartButtonEl.style.display =\n",
              "        google.colab.kernel.accessAllowed ? 'block' : 'none';\n",
              "    })();\n",
              "  </script>\n",
              "</div>\n",
              "    </div>\n",
              "  </div>\n"
            ],
            "application/vnd.google.colaboratory.intrinsic+json": {
              "type": "dataframe",
              "variable_name": "Train",
              "summary": "{\n  \"name\": \"Train\",\n  \"rows\": 16278,\n  \"fields\": [\n    {\n      \"column\": \"labels\",\n      \"properties\": {\n        \"dtype\": \"category\",\n        \"num_unique_values\": 2,\n        \"samples\": [\n          \"spam\",\n          \"ham\"\n        ],\n        \"semantic_type\": \"\",\n        \"description\": \"\"\n      }\n    },\n    {\n      \"column\": \"text\",\n      \"properties\": {\n        \"dtype\": \"string\",\n        \"num_unique_values\": 16267,\n        \"samples\": [\n          \"enron opportunities thanks vince we will follow up with this lsu graduate hope you are doing well regards lynn dunphy vince j kaminski 02 15 2000 08 53 am to lynn dunphy hou ect ect cc vince j kaminski hou ect ect subject enron opportunities lynn i am forwarding you the resume of a very bright and motivated young man who attended a lecture i gave recently at lsu i think we should consider him for an analyst position vinceforwarded by vince j kaminski hou ect on 02 15 2000 08 52 am richard c iles on 09 14 2000 11 14 56 am please respond to richard c iles to cc subject enron opportunities dr kaminski here is my resume and cover letter thanks richard iles enron cover and\",\n          \"biliana s resume geynille i understand you are in charge of recruiting at the uofh i am forwarding to you the resume of one of the students of the university of houston she is involved with the international organization called aiesec and i was most impressed by her organizational skills and professional attitude i used to work as a volunteer for this organization many years ago and i am still helping their local chapter as far as i know she signed up for an interview with enron vince kaminskiforwarded by vince j kaminski hou ect on 09 29 2000 02 13 pm biliana pehlivanova on 09 28 2000 06 02 20 pm to vkamins enron com cc subject biliana s resume mr kaminski thank you for referring me to your recru\"\n        ],\n        \"semantic_type\": \"\",\n        \"description\": \"\"\n      }\n    }\n  ]\n}"
            }
          },
          "metadata": {},
          "execution_count": 48
        }
      ],
      "source": [
        "Train.head()"
      ]
    },
    {
      "cell_type": "code",
      "source": [
        "for i in Train.sample(10).text:\n",
        "    print(i)"
      ],
      "metadata": {
        "colab": {
          "base_uri": "https://localhost:8080/"
        },
        "id": "1oaRtGCZ0aXK",
        "outputId": "902a1e7d-7536-42bd-ff0c-edd9ffd3cf98"
      },
      "execution_count": 124,
      "outputs": [
        {
          "output_type": "stream",
          "name": "stdout",
          "text": [
            "yeah i imagine he would be really gentle unlike the other docs who treat their patients like turkeys\n",
            "yar i wanted 2 scold u yest but late already i where got zhong se qing you if u ask me b4 he ask me then ill go out w u all lor n u still can act so real\n",
            "on mon 1635465 sep 1635465 russell turpin wrote adam beberg considering 1635465 of the fake job posting i see are for embedded systems or device drivers c still rules the world there is a lot of c in the embedded world with static object allocation and a few other programming techniques performance differences disappear but c gives a boost in development and maintainability agreed not much difference there with c it just doesnt seem as wrong to be crawling around in registers and things quite frankly you cant fit that big of a project into a 1635465k rom so large project issues dont matter as much in the embedded world and in the realtime space or when you have data coming in at 1635465gbit sec fibrechannel every cycle does count the real issue is compiler availability almost every embedde\n",
            "who r d three mst hard workin ppl in mtv roadies? raghu ranvijay n think? its the man who presses the beep button to censor abuses !!!\n",
            "termination payments ees energy outsource agreements vince attached is a very brief white paper on the issue of termination payments for facility closures and sales i would like to discuss this concept with you and some of your people in the coming days to establish whether this has merit and how we might proceed my assistant cheryl brashier will set up some time with you thanks richard\n",
            "tmrw im finishing 9 doors\n",
            "i didnt get the second half of that message\n",
            "guys fundamentally adani power is weak and in debt of 50000 crores i think you guys should book your profits & losses instead buy rpower reliance power is going to become debt free with a fund raising meeting on 13 june rpower is at 2 year high dominating the sector\n",
            "i thk u dun haf 2 hint in e forum already lor cos i told ron n darren is going 2 tell shuhui\n",
            "hello which the site to download songs its urgent pls\n"
          ]
        }
      ]
    },
    {
      "cell_type": "markdown",
      "source": [
        "Как можно понять (несколько раз посемплил), все текста очищены от знаков пунктуации и переведены к нижнемы регистру, осталось только привести лейблы к численному виду."
      ],
      "metadata": {
        "id": "3WED1fEn0igs"
      }
    },
    {
      "cell_type": "code",
      "execution_count": 66,
      "metadata": {
        "id": "43GJExOIZ0Ki"
      },
      "outputs": [],
      "source": [
        "Train.labels = Train.labels.apply(lambda x: int(x == 'spam'))"
      ]
    },
    {
      "cell_type": "markdown",
      "source": [
        "## №1: Байесовский клаасификатор"
      ],
      "metadata": {
        "id": "4YEnPmBvzdDK"
      }
    },
    {
      "cell_type": "code",
      "source": [
        "vectorizer = CountVectorizer()\n",
        "\n",
        "X = vectorizer.fit_transform(Train.text)\n",
        "\n",
        "X_train, X_valid, y_train, y_valid = train_test_split(X, Train.labels,\n",
        "                                                      test_size=0.2)\n",
        "\n",
        "nb_model = MultinomialNB()\n",
        "nb_model.fit(X_train, y_train)\n",
        "\n",
        "pred = nb_model.predict(X_valid)\n",
        "\n",
        "roc_auc_score(y_valid, pred)"
      ],
      "metadata": {
        "colab": {
          "base_uri": "https://localhost:8080/"
        },
        "id": "kvz_JWIMzQLz",
        "outputId": "794d2535-8236-4511-ef0a-0c810d095f1f"
      },
      "execution_count": 81,
      "outputs": [
        {
          "output_type": "execute_result",
          "data": {
            "text/plain": [
              "0.9084384019444023"
            ]
          },
          "metadata": {},
          "execution_count": 81
        }
      ]
    },
    {
      "cell_type": "markdown",
      "source": [
        "Наивный Байес показал отличные показатели на тестовой выборке (здесь и дальше называю valid чтобы не путать с итоговой тестовой)"
      ],
      "metadata": {
        "id": "ALHqEBow1JoB"
      }
    },
    {
      "cell_type": "markdown",
      "source": [
        "## №2: Эмбеддинги BERT"
      ],
      "metadata": {
        "id": "tod4P7dyzool"
      }
    },
    {
      "cell_type": "markdown",
      "source": [
        "Здесь я решил использовать скрытые представления BERT как эмбединги предложений и прогонять их через полносвязную сетку"
      ],
      "metadata": {
        "id": "ST6xtRk42B13"
      }
    },
    {
      "cell_type": "code",
      "source": [
        "Train.text[5569]"
      ],
      "metadata": {
        "colab": {
          "base_uri": "https://localhost:8080/",
          "height": 146
        },
        "id": "aB7Pf_oF2xSw",
        "outputId": "89efa94a-d988-4f83-9923-7220a2368768"
      },
      "execution_count": 56,
      "outputs": [
        {
          "output_type": "execute_result",
          "data": {
            "text/plain": [
              "'요즘 뜨는 직종 best 1635465 금융 it 방송 뷰티 인테리어 1635465대 젊은이들이 뽑은 일하고 싶은 분야 로 금융 it 방송 뷰티 패션 인테리어 건축분야가 선정되었다 이들 중에서도 금융분야는 급여가 상대적으로 높고 주1635465일제 근무에 앞서있는 외국계 은행 이 it분야는 게임 분야가 방송분야는 요즘 신세대 대학생들이 가장 선호하는 직업인 홈쇼핑의 쇼핑호스트 와 케이블방송의 vj 를 뷰티 패션분야는 美에 대한 관심고조로 인해 피부관리사 또는 스타일리스트 인테리어 건축분야에서는 리모델링 붐에 힘입어 인테리어 쪽이 높은 순위로 꼽혔다 그럼 이처럼 높은 주가를 구가하고 있는 직종에 근무하기 위해서는 어떤 자격요소를 갖추는 것이 좋을까 본격적인 여름이 시작되는 이때 뜨는 직종으로의 확실한 준비를 해보자 금융 1635465년 말 imf가 시작될 무렵만 해도 은행 보험 증권계의 한파는 그 어느분야보다도 치열했고 무차별적인 구조조정으로 인해 많은 직장인들이 거리로 내몰리다시피 되었었다 하지만 1635465년 현재 카드사의 호황을 시작으로 은행권 증권 보험분야의 경력직 수요가 많아지고 있으며 신입직의 채용 또한 많아지고 있다 올 하반기까지 인력시장은 맑음 상태 금융분야는 자격증이 있으면 있을수록 좋다 금융권에서 유용하게 쓰이는 자격증으로는 투자상담사 금융자산관리사 fp 재무위험관리사 frm 등 특히 증권사에 근무할 이들이라면 투자상담사나 금융자산관리사의 자격증은 기본이 되고 있으니 반드시 취득해두도록 하자 hyperlink 시험일정 보기 it 올해들면서 it 인터넷 업계의 수익구조가 좋아지고 있으며 인터넷'"
            ],
            "application/vnd.google.colaboratory.intrinsic+json": {
              "type": "string"
            }
          },
          "metadata": {},
          "execution_count": 56
        }
      ]
    },
    {
      "cell_type": "markdown",
      "source": [
        "Эту запись я удаляю как \"выброс\", т.к. на ней падает BertModel"
      ],
      "metadata": {
        "id": "bllAFOgI20Au"
      }
    },
    {
      "cell_type": "code",
      "source": [
        "Train = Train.drop(5569).reset_index(drop=True)"
      ],
      "metadata": {
        "id": "RY5u2XxEza4p"
      },
      "execution_count": 57,
      "outputs": []
    },
    {
      "cell_type": "code",
      "source": [
        "model_name = 'bert-base-uncased'\n",
        "bert_tokenizer = BertTokenizer.from_pretrained(model_name)\n",
        "bert_model = BertModel.from_pretrained(model_name).to(device)\n",
        "bert_model.eval()"
      ],
      "metadata": {
        "id": "RRnikAGvi8Fy"
      },
      "execution_count": null,
      "outputs": []
    },
    {
      "cell_type": "code",
      "execution_count": 12,
      "metadata": {
        "id": "CEA_KTqd1WIb"
      },
      "outputs": [],
      "source": [
        "train, valid = train_test_split(Train, test_size=0.2)\n",
        "train = train.reset_index(drop=True)\n",
        "valid = valid.reset_index(drop=True)"
      ]
    },
    {
      "cell_type": "code",
      "execution_count": 15,
      "metadata": {
        "id": "BeY3gu_wxrOJ"
      },
      "outputs": [],
      "source": [
        "class CustomDataset(Dataset):\n",
        "    def __init__(self, dataframe, tokenizer, max_length):\n",
        "        self.dataframe = dataframe\n",
        "        self.tokenizer = tokenizer\n",
        "        self.max_length = max_length\n",
        "\n",
        "    def __len__(self):\n",
        "        return len(self.dataframe)\n",
        "\n",
        "    def __getitem__(self, idx):\n",
        "        text = self.dataframe['text'][idx]\n",
        "        label = self.dataframe['labels'][idx]\n",
        "\n",
        "        inputs = self.tokenizer(\n",
        "            text, max_length=self.max_length, padding='max_length',\n",
        "            truncation=True, return_tensors='pt'\n",
        "        )\n",
        "\n",
        "        return inputs['input_ids'].flatten().to(device),  \\\n",
        "                inputs['attention_mask'].flatten().to(device), \\\n",
        "                torch.tensor(label, dtype=float).to(device)\n",
        "\n",
        "\n",
        "class Classifier(nn.Module):\n",
        "    def __init__(self, input_size, hidden_size):\n",
        "        super(Classifier, self).__init__()\n",
        "        self.flatten = nn.Flatten(start_dim=1)\n",
        "        self.fc1 = nn.Linear(input_size, hidden_size)\n",
        "        self.relu = nn.ReLU()\n",
        "        self.fc2 = nn.Linear(hidden_size, hidden_size * 4)\n",
        "        self.relu = nn.ReLU()\n",
        "        self.fc3 = nn.Linear(hidden_size * 4, hidden_size * 4)\n",
        "        self.relu = nn.ReLU()\n",
        "        self.fc4 = nn.Linear(hidden_size * 4, 1)\n",
        "        self.sigmoid = nn.Sigmoid()\n",
        "\n",
        "    def forward(self, x):\n",
        "        x = self.flatten(x)\n",
        "        x = self.fc1(x)\n",
        "        x = self.relu(x)\n",
        "        x = self.fc2(x)\n",
        "        x = self.relu(x)\n",
        "        x = self.fc3(x)\n",
        "        x = self.relu(x)\n",
        "        x = self.fc4(x)\n",
        "        return self.sigmoid(x)\n"
      ]
    },
    {
      "cell_type": "code",
      "execution_count": 16,
      "metadata": {
        "id": "ApGRPPNnzxaO"
      },
      "outputs": [],
      "source": [
        "BATCH_SIZE = 128\n",
        "MAX_LEN = 512\n",
        "\n",
        "INPUT_SIZE = MAX_LEN * 768\n",
        "HIDDEN_SIZE = 128\n",
        "\n",
        "NUM_EPOCHS = 3"
      ]
    },
    {
      "cell_type": "code",
      "execution_count": 18,
      "metadata": {
        "id": "ZvFmkoc5xD42"
      },
      "outputs": [],
      "source": [
        "train_loader = DataLoader(CustomDataset(train, bert_tokenizer, MAX_LEN),\n",
        "                          batch_size=BATCH_SIZE, shuffle=True)\n",
        "valid_loader = DataLoader(CustomDataset(valid, bert_tokenizer, MAX_LEN),\n",
        "                          batch_size=BATCH_SIZE, shuffle=True)\n",
        "\n",
        "\n",
        "classifier_model = Classifier(INPUT_SIZE, HIDDEN_SIZE).to(device)\n",
        "criterion = nn.CrossEntropyLoss()\n",
        "optimizer = torch.optim.Adam(classifier_model.parameters(), lr=0.001)"
      ]
    },
    {
      "cell_type": "markdown",
      "source": [
        "Note: я понимаю, что будет быстрее получить сначала эмбеддинги предложений, и потом обучать сетку, но colab не вывозит такого и \"CUDA out of memory\""
      ],
      "metadata": {
        "id": "0xuFxIKl3AMO"
      }
    },
    {
      "cell_type": "code",
      "execution_count": 20,
      "metadata": {
        "colab": {
          "base_uri": "https://localhost:8080/"
        },
        "id": "r0yQmOSkqkOP",
        "outputId": "9ab8ba1a-cc88-4616-b127-dd398123eb33"
      },
      "outputs": [
        {
          "output_type": "stream",
          "name": "stdout",
          "text": [
            "epoch1\n"
          ]
        },
        {
          "output_type": "stream",
          "name": "stderr",
          "text": [
            "100%|██████████| 102/102 [08:21<00:00,  4.92s/it]\n"
          ]
        },
        {
          "output_type": "stream",
          "name": "stdout",
          "text": [
            "train loss 174.4746551513672\n"
          ]
        },
        {
          "output_type": "stream",
          "name": "stderr",
          "text": [
            "100%|██████████| 26/26 [02:03<00:00,  4.75s/it]\n"
          ]
        },
        {
          "output_type": "stream",
          "name": "stdout",
          "text": [
            "valid loss 163.73121643066406\n",
            "epoch2\n"
          ]
        },
        {
          "output_type": "stream",
          "name": "stderr",
          "text": [
            "100%|██████████| 102/102 [08:17<00:00,  4.87s/it]\n"
          ]
        },
        {
          "output_type": "stream",
          "name": "stdout",
          "text": [
            "train loss 172.15206909179688\n"
          ]
        },
        {
          "output_type": "stream",
          "name": "stderr",
          "text": [
            "100%|██████████| 26/26 [02:03<00:00,  4.77s/it]\n"
          ]
        },
        {
          "output_type": "stream",
          "name": "stdout",
          "text": [
            "valid loss 174.63299560546875\n",
            "epoch3\n"
          ]
        },
        {
          "output_type": "stream",
          "name": "stderr",
          "text": [
            "100%|██████████| 102/102 [08:18<00:00,  4.88s/it]\n"
          ]
        },
        {
          "output_type": "stream",
          "name": "stdout",
          "text": [
            "train loss 171.80836486816406\n"
          ]
        },
        {
          "output_type": "stream",
          "name": "stderr",
          "text": [
            "100%|██████████| 26/26 [02:04<00:00,  4.78s/it]"
          ]
        },
        {
          "output_type": "stream",
          "name": "stdout",
          "text": [
            "valid loss 167.3802032470703\n"
          ]
        },
        {
          "output_type": "stream",
          "name": "stderr",
          "text": [
            "\n"
          ]
        }
      ],
      "source": [
        "for epoch in range(NUM_EPOCHS):\n",
        "    print(f'epoch{epoch + 1}')\n",
        "\n",
        "    classifier_model.train()\n",
        "    losses = []\n",
        "\n",
        "    for input_ids, attention_masks, labels in tqdm(train_loader):\n",
        "        with torch.no_grad():\n",
        "            embeddings = bert_model(\n",
        "                input_ids, attention_mask=attention_masks\n",
        "            ).last_hidden_state\n",
        "        optimizer.zero_grad()\n",
        "        pred = classifier_model(embeddings)\n",
        "        loss = criterion(pred.flatten(), labels)\n",
        "        loss.backward()\n",
        "        losses.append(loss.item())\n",
        "        optimizer.step()\n",
        "\n",
        "    print(f'train loss {torch.mean(torch.tensor(losses))}')\n",
        "\n",
        "    losses = []\n",
        "    classifier_model.eval()\n",
        "\n",
        "    with torch.no_grad():\n",
        "        for input_ids, attention_masks, labels in tqdm(valid_loader):\n",
        "            embeddings = bert_model(\n",
        "                input_ids, attention_mask=attention_masks\n",
        "            ).last_hidden_state\n",
        "            pred = classifier_model(embeddings)\n",
        "            loss = criterion(pred.flatten(), labels)\n",
        "            losses.append(loss.item())\n",
        "\n",
        "    print(f'valid loss {torch.mean(torch.tensor(losses))}')"
      ]
    },
    {
      "cell_type": "code",
      "execution_count": 21,
      "metadata": {
        "colab": {
          "base_uri": "https://localhost:8080/"
        },
        "id": "RxNSSD7X3XLl",
        "outputId": "dfb1bd7f-51a3-49fd-d474-7647171e1739"
      },
      "outputs": [
        {
          "output_type": "stream",
          "name": "stderr",
          "text": [
            "100%|██████████| 26/26 [02:05<00:00,  4.82s/it]"
          ]
        },
        {
          "output_type": "stream",
          "name": "stdout",
          "text": [
            "0.7637025559112701\n"
          ]
        },
        {
          "output_type": "stream",
          "name": "stderr",
          "text": [
            "\n"
          ]
        }
      ],
      "source": [
        "real = []\n",
        "scores = []\n",
        "\n",
        "\n",
        "with torch.no_grad():\n",
        "    for input_ids, attention_masks, labels in tqdm(valid_loader):\n",
        "        embeddings = bert_model(\n",
        "            input_ids, attention_mask=attention_masks\n",
        "        ).last_hidden_state\n",
        "        pred = classifier_model(embeddings)\n",
        "\n",
        "        scores = scores + pred.flatten().tolist()\n",
        "        real = real + labels.tolist()\n",
        "\n",
        "print(roc_auc_score(real, scores))\n"
      ]
    },
    {
      "cell_type": "markdown",
      "source": [
        "Результаты получились относительно неплохие, это решение можно явно улучшить (хотя бОльшим временем обучения или числом параметров сетки) но на бесплатой GPU от колаба это проблематично :)"
      ],
      "metadata": {
        "id": "e8OenqnC3b-G"
      }
    },
    {
      "cell_type": "markdown",
      "source": [
        "## Результаты:\n",
        "Лучщим решением оказался наивный бейес (0.91 против 0.76)"
      ],
      "metadata": {
        "id": "iL6Xb3MQ4BTg"
      }
    },
    {
      "cell_type": "code",
      "source": [
        "Test = pd.read_csv('test_spam.csv')"
      ],
      "metadata": {
        "id": "3YTrBF6U4Plt"
      },
      "execution_count": 119,
      "outputs": []
    },
    {
      "cell_type": "code",
      "source": [
        "Test['score'] = nb_model.predict_proba(vectorizer.transform(Test.text))[:, 1]"
      ],
      "metadata": {
        "id": "AqZtKG4N4ZDF"
      },
      "execution_count": 120,
      "outputs": []
    },
    {
      "cell_type": "code",
      "source": [
        "Test.to_csv('results.csv', index=False)"
      ],
      "metadata": {
        "id": "d_tXxj0V6en2"
      },
      "execution_count": 123,
      "outputs": []
    }
  ],
  "metadata": {
    "accelerator": "GPU",
    "colab": {
      "gpuType": "T4",
      "provenance": []
    },
    "kernelspec": {
      "display_name": "Python 3",
      "name": "python3"
    },
    "language_info": {
      "name": "python"
    }
  },
  "nbformat": 4,
  "nbformat_minor": 0
}